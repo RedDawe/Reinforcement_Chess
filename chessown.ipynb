{
  "nbformat": 4,
  "nbformat_minor": 0,
  "metadata": {
    "colab": {
      "name": "chessown.ipynb",
      "provenance": [],
      "collapsed_sections": [],
      "include_colab_link": true
    },
    "kernelspec": {
      "name": "python3",
      "display_name": "Python 3"
    }
  },
  "cells": [
    {
      "cell_type": "markdown",
      "metadata": {
        "id": "view-in-github",
        "colab_type": "text"
      },
      "source": [
        "<a href=\"https://colab.research.google.com/github/RedDawe/Reinforcement_Chess/blob/master/chessown.ipynb\" target=\"_parent\"><img src=\"https://colab.research.google.com/assets/colab-badge.svg\" alt=\"Open In Colab\"/></a>"
      ]
    },
    {
      "cell_type": "code",
      "metadata": {
        "id": "8kZUVYNJBCBr",
        "colab_type": "code",
        "outputId": "8eccc25d-8f40-4b04-e75b-e72621211322",
        "colab": {
          "base_uri": "https://localhost:8080/",
          "height": 51
        }
      },
      "source": [
        "#!pip install tensorflow-gpu\n",
        "import tensorflow as tf\n",
        "print(tf.__version__)\n",
        "assert tf.executing_eagerly()\n",
        "import numpy as np"
      ],
      "execution_count": 0,
      "outputs": [
        {
          "output_type": "stream",
          "text": [
            "1.15.0\n",
            "False\n"
          ],
          "name": "stdout"
        }
      ]
    },
    {
      "cell_type": "code",
      "metadata": {
        "id": "xWTUlcciBQc9",
        "colab_type": "code",
        "outputId": "44909b19-ccea-4bb9-b8f6-fed3388c6365",
        "colab": {
          "base_uri": "https://localhost:8080/",
          "height": 170
        }
      },
      "source": [
        "e = 0\n",
        "\n",
        "n = 1\n",
        "q = 2\n",
        "r = 3\n",
        "b = 4\n",
        "k = 5\n",
        "p = 6\n",
        "\n",
        "N = -1\n",
        "Q = -2\n",
        "R = -3\n",
        "B = -4\n",
        "K = -5\n",
        "P = -6\n",
        "\n",
        "board = [[r, k, b, q, n, b, k, r],\n",
        "         [p, p, p, p, p, p, p, p],\n",
        "         [e, e, e, e, e, e, e, e],\n",
        "         [e, e, e, e, e, e, e, e],\n",
        "         [e, e, e, e, e, e, e, e],\n",
        "         [e, e, e, e, e, e, e, e],\n",
        "         [P, P, P, P, P, P, P, P],\n",
        "         [R, K, B, Q, N, B, K, R]\n",
        "]\n",
        "\n",
        "board = np.array(board)\n",
        "\n",
        "print(board)"
      ],
      "execution_count": 0,
      "outputs": [
        {
          "output_type": "stream",
          "text": [
            "[[ 3  5  4  2  1  4  5  3]\n",
            " [ 6  6  6  6  6  6  6  6]\n",
            " [ 0  0  0  0  0  0  0  0]\n",
            " [ 0  0  0  0  0  0  0  0]\n",
            " [ 0  0  0  0  0  0  0  0]\n",
            " [ 0  0  0  0  0  0  0  0]\n",
            " [-6 -6 -6 -6 -6 -6 -6 -6]\n",
            " [-3 -5 -4 -2 -1 -4 -5 -3]]\n",
            "5\n"
          ],
          "name": "stdout"
        }
      ]
    },
    {
      "cell_type": "code",
      "metadata": {
        "id": "qssdgNyQBTzJ",
        "colab_type": "code",
        "colab": {}
      },
      "source": [
        "inputs = tf.keras.Input(shape=(8, 8, 1)) #change into softmax as encoding and relu\n",
        "\n",
        "model = tf.keras.layers.BatchNormalization()(inputs)\n",
        "\n",
        "for i in range(16):\n",
        "  cell = tf.keras.layers.Conv2D(filters=8, kernel_size=[1, 1], activation='tanh', padding='same')(model)\n",
        "  cell = tf.keras.layers.Conv2D(filters=4, kernel_size=[3, 3], activation='tanh', padding='same')(cell)\n",
        "  cell = tf.keras.layers.BatchNormalization()(cell)\n",
        "  model = tf.keras.layers.Concatenate()(list([model, cell]))\n",
        "\n",
        "model = tf.keras.Model(inputs=inputs, outputs=model)\n",
        "\n",
        "\n",
        "\n",
        "model.compile(optimizer='adam', loss='mean_squared_error')"
      ],
      "execution_count": 0,
      "outputs": []
    },
    {
      "cell_type": "code",
      "metadata": {
        "id": "LsJIuLCVIQmN",
        "colab_type": "code",
        "colab": {}
      },
      "source": [
        "def make_move(board):\n",
        "  return model.predict(board)"
      ],
      "execution_count": 0,
      "outputs": []
    },
    {
      "cell_type": "code",
      "metadata": {
        "id": "UgyWP1k8JRFZ",
        "colab_type": "code",
        "colab": {}
      },
      "source": [
        "def decide_move(board, logits):\n",
        "  biggest_diff = 0\n",
        "  piece = []\n",
        "  to = []\n",
        "\n",
        "  for i in range(8):\n",
        "    for j in range(8):\n",
        "      #if abs(board[i, j] - logits[i, j]) > biggest_diff:\n",
        "      #if -(logits[i, j] - board[i, j]) > biggest_diff:\n",
        "      if board[i, j] > 0:\n",
        "        if logits[i, j] / board[i, j] > biggest diff:\n",
        "          moves = get_possible_moves(board, [i, j])\n",
        "\n",
        "          for move in moves:\n",
        "            copy_board = np.copy(board)\n",
        "            copy_board[move[0], move[1]] = board[i, j]\n",
        "            copy_board[i, j] = e\n",
        "\n",
        "            if not is_check(copy_board, n)\n",
        "              piece = [i, j]\n",
        "              to = [move[0], move[1]]"
      ],
      "execution_count": 0,
      "outputs": []
    },
    {
      "cell_type": "code",
      "metadata": {
        "id": "y2JAuwFEBVxR",
        "colab_type": "code",
        "colab": {}
      },
      "source": [
        "def is_check(board, piece):\n",
        "for i in range(8):\n",
        "  for j in range(8):\n",
        "    if board[i, j] == piece:\n",
        "      coordinates = [i, j]\n",
        "\n",
        "check = False\n",
        "for i in range(8):\n",
        "  for j in range(8):\n",
        "    if board[i, j] > 0 and not check:\n",
        "      moves = get_possible_moves(board, [i, j])\n",
        "      check = coordinates in moves\n",
        "\n",
        "return check"
      ],
      "execution_count": 0,
      "outputs": []
    },
    {
      "cell_type": "code",
      "metadata": {
        "id": "2Oy0hHLEc1tc",
        "colab_type": "code",
        "colab": {}
      },
      "source": [
        "def get_possible_moves(board, coordinates): #put together all moves that 'is_legal', are on the board and aren't taking your own pieces\n",
        "  legal_moves = []\n",
        "  for i in range(8):\n",
        "    for j in range(8):\n",
        "      if (board[coordinates[0], coordinates[1]] > 0 and board[i, j] <= 0) or (board[coordinates[0], coordinates[1]] < 0 and board[i, j] >= 0)\n",
        "        if is_legal(board, coordinates, [i, j])\n",
        "          legal_moves.append([i, j])\n",
        "\n",
        "  return legal_moves"
      ],
      "execution_count": 0,
      "outputs": []
    },
    {
      "cell_type": "code",
      "metadata": {
        "id": "L-tchmQQcS5R",
        "colab_type": "code",
        "colab": {}
      },
      "source": [
        "def is_legal(board, piece, move): #check if move is in a direction that the piece moves andif squares between start and finish are empty\n",
        "  if board[piece[0], piece[1]] == n: #KINGS\n",
        "    return abs(piece[0] - move[0]) <= 1 and abs(piece[1] - move[1]) <= 1:\n",
        "\n",
        "  elif board[piece[0], piece[1]] == q: #QUEEN\n",
        "    if abs(piece[0] - move[0]) == 0:\n",
        "      if abs(piece[1] - move[1]) >= 2:\n",
        "        return np.all(board[min([piece[1], move[1]])+1 : max([piece[1], move[1]])] == e)\n",
        "      else:\n",
        "        return True\n",
        "    elif abs(piece[1] - move[1]) == 0:\n",
        "      if abs(piece[0] - move[0]) >= 2:\n",
        "        return np.all(board[min([piece[0], move[0]])+1 : max([piece[0], move[0]])] == e)\n",
        "      else:\n",
        "        return True\n",
        "    elif abs(piece[0] - move[0]) == abs(piece[1] - move[1])\n",
        "      empty = True\n",
        "      for i in range(8):\n",
        "        for j in range(8):\n",
        "          if board[i, j] != e:\n",
        "            empty = False\n",
        "      return empty\n",
        "    else:\n",
        "      return False\n",
        "\n",
        "  elif board[piece[0], piece[1]] == r: #ROOK\n",
        "    if abs(piece[0] - move[0]) == 0:\n",
        "      if abs(piece[1] - move[1]) >= 2:\n",
        "        return np.all(board[min([piece[1], move[1]])+1 : max([piece[1], move[1]])] == e)\n",
        "      else:\n",
        "        return True\n",
        "    elif abs(piece[1] - move[1]) == 0:\n",
        "      if abs(piece[0] - move[0]) >= 2:\n",
        "        return np.all(board[min([piece[0], move[0]])+1 : max([piece[0], move[0]])] == e)\n",
        "      else:\n",
        "        return True\n",
        "    else:\n",
        "      return False\n",
        "\n",
        "  elif board[piece[0], piece[1]] == b: #BISHOP\n",
        "    if abs(piece[0] - move[0]) == abs(piece[1] - move[1])\n",
        "      empty = True\n",
        "      for i in range(8):\n",
        "        for j in range(8):\n",
        "          if board[i, j] != e:\n",
        "            empty = False\n",
        "      return empty\n",
        "    else:\n",
        "      return False\n",
        "\n",
        "  elif board[piece[0], piece[1]] == k: #KNIGHT\n",
        "    return (abs(piece[0] - move[0]) == 2 and abs(piece[0] - move[0]) == 1) or (abs(piece[0] - move[0]) == 1 and abs(piece[0] - move[0]) == 2)\n",
        "\n",
        "  elif board[piece[0], piece[1]] == p: #PAWN\n",
        "    return abs(piece[0] - move[0]) == 1 and abs(piece[0] - move[0]) == 0\n",
        "\n",
        "  else:\n",
        "    print('u fucked up')"
      ],
      "execution_count": 0,
      "outputs": []
    },
    {
      "cell_type": "code",
      "metadata": {
        "id": "0PpGP7sN9-ex",
        "colab_type": "code",
        "colab": {}
      },
      "source": [
        "n_steps = 2000\n",
        "games_to_play = 100"
      ],
      "execution_count": 0,
      "outputs": []
    },
    {
      "cell_type": "code",
      "metadata": {
        "id": "Xox7Gbqw9e54",
        "colab_type": "code",
        "colab": {}
      },
      "source": [
        "for i in range(n_steps):\n",
        "  for j in range(games_to_play):"
      ],
      "execution_count": 0,
      "outputs": []
    }
  ]
}